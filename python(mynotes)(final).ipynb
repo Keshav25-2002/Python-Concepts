{
 "cells": [
  {
   "cell_type": "markdown",
   "id": "4eeddb6b-2955-48de-bbc1-7eed90e2cd3b",
   "metadata": {},
   "source": [
    "Basics of Python "
   ]
  },
  {
   "cell_type": "code",
   "execution_count": 2,
   "id": "d8ff82e8-0322-4196-a7c3-555519f19fcf",
   "metadata": {},
   "outputs": [],
   "source": [
    "# Variables: Are named containers for storing the data \n",
    "a=3"
   ]
  },
  {
   "cell_type": "markdown",
   "id": "9962c88b-2f99-44d3-b939-292cee90af93",
   "metadata": {},
   "source": [
    "Data types: \n",
    "1. Numbers - int,float,complex\n",
    "2. Strings = Seq of characters enclosed within quotes are called strings\n",
    "    ''  - normal string \n",
    "    \" \"  - normal string \n",
    "    '''  '''  = strings with multiline feature \n",
    "Strings are enclosed within quotes to differentiate strings from variables so we keep in quotes\n",
    "3. Boolean - True/false \n",
    "\n"
   ]
  },
  {
   "cell_type": "markdown",
   "id": "a543b1cb-f8dc-4906-9f4c-09b2c5c10961",
   "metadata": {},
   "source": [
    "Operators\n",
    "\n",
    "Used to perform a particular task "
   ]
  },
  {
   "cell_type": "markdown",
   "id": "34341792-ece3-4431-8e50-7486e0c46f19",
   "metadata": {},
   "source": [
    "1. Assignment operator : \n",
    "\n",
    "Assigns value on the right hand side to left side variable "
   ]
  },
  {
   "cell_type": "code",
   "execution_count": 6,
   "id": "6dee29f4-6a37-46e4-8fb3-e926bc5c1bd7",
   "metadata": {},
   "outputs": [
    {
     "name": "stdout",
     "output_type": "stream",
     "text": [
      "10\n",
      "Python\n"
     ]
    }
   ],
   "source": [
    "a=10\n",
    "name='Python'\n",
    "print(a)\n",
    "print(name)"
   ]
  },
  {
   "cell_type": "markdown",
   "id": "55b4e052-7d90-46cc-9577-509940e8b99b",
   "metadata": {},
   "source": [
    "2. Arithmetic operator :\n",
    "\n",
    "Performs mathematical functions "
   ]
  },
  {
   "cell_type": "code",
   "execution_count": 9,
   "id": "3e621e5f-1bdc-4b76-b549-c754caaa2147",
   "metadata": {},
   "outputs": [
    {
     "name": "stdout",
     "output_type": "stream",
     "text": [
      "10\n",
      "4\n",
      "21\n",
      "2.0\n",
      "2\n",
      "0\n",
      "625\n"
     ]
    }
   ],
   "source": [
    "#addition\n",
    "a=3+7 \n",
    "print(a)\n",
    "\n",
    "#subtraction\n",
    "b=7-3\n",
    "print(b)\n",
    "\n",
    "#multiplication\n",
    "c=3*7\n",
    "print(c)\n",
    "\n",
    "#division \n",
    "d= 10/5\n",
    "print(d)\n",
    "\n",
    "#floor division \n",
    "e=10//5\n",
    "print(e)\n",
    "\n",
    "#reminder\n",
    "f=20%5\n",
    "print(f)\n",
    "\n",
    "#exponent\n",
    "g= 5**4\n",
    "print(g)"
   ]
  },
  {
   "cell_type": "markdown",
   "id": "4a0d4b89-c65b-4576-b388-a319fb95d7ba",
   "metadata": {},
   "source": [
    "3. Relational operator \n",
    "\n",
    "Checks mazthematical functions btw 2 values\n",
    "\n",
    "They return boolean values"
   ]
  },
  {
   "cell_type": "code",
   "execution_count": 11,
   "id": "69934c51-fc2a-4ff9-a0c3-c48ef58bb81b",
   "metadata": {},
   "outputs": [
    {
     "data": {
      "text/plain": [
       "True"
      ]
     },
     "execution_count": 11,
     "metadata": {},
     "output_type": "execute_result"
    }
   ],
   "source": [
    "#equals operator\n",
    "1==1"
   ]
  },
  {
   "cell_type": "code",
   "execution_count": 12,
   "id": "549d5461-586b-48e8-9965-8874a4c45ffd",
   "metadata": {},
   "outputs": [
    {
     "data": {
      "text/plain": [
       "False"
      ]
     },
     "execution_count": 12,
     "metadata": {},
     "output_type": "execute_result"
    }
   ],
   "source": [
    "#not equals operator \n",
    "3!=3"
   ]
  },
  {
   "cell_type": "code",
   "execution_count": 14,
   "id": "82b8a78f-c7e6-4ed5-b8d7-94bf0cece56f",
   "metadata": {},
   "outputs": [
    {
     "data": {
      "text/plain": [
       "True"
      ]
     },
     "execution_count": 14,
     "metadata": {},
     "output_type": "execute_result"
    }
   ],
   "source": [
    "7>5"
   ]
  },
  {
   "cell_type": "code",
   "execution_count": 16,
   "id": "54652087-9a85-4e5a-b5fb-fa52d24906bb",
   "metadata": {},
   "outputs": [
    {
     "data": {
      "text/plain": [
       "False"
      ]
     },
     "execution_count": 16,
     "metadata": {},
     "output_type": "execute_result"
    }
   ],
   "source": [
    "7<6"
   ]
  },
  {
   "cell_type": "code",
   "execution_count": 17,
   "id": "36811d14-73bb-4ad3-b79e-f95c9535a74f",
   "metadata": {},
   "outputs": [
    {
     "data": {
      "text/plain": [
       "True"
      ]
     },
     "execution_count": 17,
     "metadata": {},
     "output_type": "execute_result"
    }
   ],
   "source": [
    "8>=7"
   ]
  },
  {
   "cell_type": "code",
   "execution_count": 18,
   "id": "46a12499-86ca-4675-b1ea-fb167b3f61f7",
   "metadata": {},
   "outputs": [
    {
     "data": {
      "text/plain": [
       "False"
      ]
     },
     "execution_count": 18,
     "metadata": {},
     "output_type": "execute_result"
    }
   ],
   "source": [
    "6<=5"
   ]
  },
  {
   "cell_type": "markdown",
   "id": "7637fee3-3a9f-4ac1-9b1c-b2a9730ddfb2",
   "metadata": {},
   "source": [
    "4. Logical operator \n",
    "\n",
    "Joins 2 or more conditions \n",
    "\n",
    "They are  and,or,not\n",
    "\n",
    "The operator returns True if all conditions are correct otherwise False "
   ]
  },
  {
   "cell_type": "code",
   "execution_count": 19,
   "id": "ef547d04-641e-4341-99c0-5388bfd3b364",
   "metadata": {},
   "outputs": [
    {
     "data": {
      "text/plain": [
       "False"
      ]
     },
     "execution_count": 19,
     "metadata": {},
     "output_type": "execute_result"
    }
   ],
   "source": [
    "2==3 and 4==4"
   ]
  },
  {
   "cell_type": "code",
   "execution_count": 20,
   "id": "4266788b-f228-4b1a-81a2-f8fcdb113317",
   "metadata": {},
   "outputs": [
    {
     "data": {
      "text/plain": [
       "True"
      ]
     },
     "execution_count": 20,
     "metadata": {},
     "output_type": "execute_result"
    }
   ],
   "source": [
    "5>7 or 7>=3"
   ]
  },
  {
   "cell_type": "code",
   "execution_count": 22,
   "id": "ee35ff9f-79e1-4439-a8b9-b21382a463f5",
   "metadata": {},
   "outputs": [
    {
     "data": {
      "text/plain": [
       "True"
      ]
     },
     "execution_count": 22,
     "metadata": {},
     "output_type": "execute_result"
    }
   ],
   "source": [
    "8>=6 or 4!=4"
   ]
  },
  {
   "cell_type": "code",
   "execution_count": 23,
   "id": "6fd4e920-4da5-49e4-a060-24d6afea2454",
   "metadata": {},
   "outputs": [
    {
     "data": {
      "text/plain": [
       "False"
      ]
     },
     "execution_count": 23,
     "metadata": {},
     "output_type": "execute_result"
    }
   ],
   "source": [
    "not True"
   ]
  },
  {
   "cell_type": "code",
   "execution_count": 24,
   "id": "0c8bdfff-6e4b-4b4d-acdf-d5300b8deef7",
   "metadata": {},
   "outputs": [
    {
     "data": {
      "text/plain": [
       "True"
      ]
     },
     "execution_count": 24,
     "metadata": {},
     "output_type": "execute_result"
    }
   ],
   "source": [
    "not False "
   ]
  },
  {
   "cell_type": "markdown",
   "id": "0e1db991-d470-4ce9-bdfa-30e3aa44994d",
   "metadata": {},
   "source": [
    "Here they are case sensitive.\n",
    "\n",
    "So they should always start with capital letters like T or F and not t or f\n",
    "\n",
    "what happens if we type it in lowercase, let's see"
   ]
  },
  {
   "cell_type": "code",
   "execution_count": 26,
   "id": "f57337da-44fa-4827-a718-6304499d2b58",
   "metadata": {},
   "outputs": [
    {
     "ename": "NameError",
     "evalue": "name 'true' is not defined",
     "output_type": "error",
     "traceback": [
      "\u001b[0;31m---------------------------------------------------------------------------\u001b[0m",
      "\u001b[0;31mNameError\u001b[0m                                 Traceback (most recent call last)",
      "Cell \u001b[0;32mIn [26], line 1\u001b[0m\n\u001b[0;32m----> 1\u001b[0m \u001b[38;5;129;01mnot\u001b[39;00m \u001b[43mtrue\u001b[49m\n",
      "\u001b[0;31mNameError\u001b[0m: name 'true' is not defined"
     ]
    }
   ],
   "source": [
    "not true\n",
    "#so there is a error because of the name. "
   ]
  },
  {
   "cell_type": "markdown",
   "id": "b7365d20-2a5d-4af6-b2f8-3f36f8960af5",
   "metadata": {},
   "source": [
    "5. Identity operator \n",
    "\n",
    "The identity operator - is \n",
    "\n",
    "This not only checks the equality btw 2 values but also their data types and stored address too "
   ]
  },
  {
   "cell_type": "code",
   "execution_count": 27,
   "id": "028b06da-a772-4d65-8aec-f8ca7f636348",
   "metadata": {},
   "outputs": [
    {
     "data": {
      "text/plain": [
       "False"
      ]
     },
     "execution_count": 27,
     "metadata": {},
     "output_type": "execute_result"
    }
   ],
   "source": [
    "500== 1000.00"
   ]
  },
  {
   "cell_type": "code",
   "execution_count": 29,
   "id": "80d08404-f389-47fc-8a36-3ec1a864f7df",
   "metadata": {},
   "outputs": [
    {
     "name": "stderr",
     "output_type": "stream",
     "text": [
      "<>:1: SyntaxWarning: \"is\" with a literal. Did you mean \"==\"?\n",
      "<>:1: SyntaxWarning: \"is\" with a literal. Did you mean \"==\"?\n",
      "/tmp/ipykernel_78/4200327300.py:1: SyntaxWarning: \"is\" with a literal. Did you mean \"==\"?\n",
      "  500 is 500.00\n"
     ]
    },
    {
     "data": {
      "text/plain": [
       "False"
      ]
     },
     "execution_count": 29,
     "metadata": {},
     "output_type": "execute_result"
    }
   ],
   "source": [
    "500 is 500.00"
   ]
  },
  {
   "cell_type": "markdown",
   "id": "7c4be26a-6b8f-45fb-bfa4-c51152dfcbed",
   "metadata": {},
   "source": [
    "6. Memebership operator \n",
    "\n",
    "Checks whether a particular element is in a collection or not "
   ]
  },
  {
   "cell_type": "code",
   "execution_count": 32,
   "id": "e23a94d4-bc0f-41fd-bbbc-6ca71f9c3adb",
   "metadata": {},
   "outputs": [
    {
     "data": {
      "text/plain": [
       "True"
      ]
     },
     "execution_count": 32,
     "metadata": {},
     "output_type": "execute_result"
    }
   ],
   "source": [
    "'J' in 'Java'"
   ]
  },
  {
   "cell_type": "code",
   "execution_count": 33,
   "id": "01b1147b-520c-46c4-a2d6-58f6acf4ebc8",
   "metadata": {},
   "outputs": [
    {
     "data": {
      "text/plain": [
       "False"
      ]
     },
     "execution_count": 33,
     "metadata": {},
     "output_type": "execute_result"
    }
   ],
   "source": [
    "'p' in 'docker;'"
   ]
  },
  {
   "cell_type": "markdown",
   "id": "fa2a18b4-6571-425e-b248-704dc9696f24",
   "metadata": {},
   "source": [
    "7. Bitwise Operator \n",
    "\n",
    "Works on binary digits of a number "
   ]
  },
  {
   "cell_type": "code",
   "execution_count": 34,
   "id": "88d2e4cd-81c1-4f97-bc78-e2a6eb92f2fb",
   "metadata": {},
   "outputs": [
    {
     "data": {
      "text/plain": [
       "2"
      ]
     },
     "execution_count": 34,
     "metadata": {},
     "output_type": "execute_result"
    }
   ],
   "source": [
    "#right shift- shifts number digits towards right by n steps \n",
    "8>>2"
   ]
  },
  {
   "cell_type": "code",
   "execution_count": 35,
   "id": "27cc6d43-871c-4e96-a769-b73044b5e700",
   "metadata": {},
   "outputs": [
    {
     "data": {
      "text/plain": [
       "48"
      ]
     },
     "execution_count": 35,
     "metadata": {},
     "output_type": "execute_result"
    }
   ],
   "source": [
    "#left shift - shifts number digits towards left by n steps\n",
    "6<<3\n"
   ]
  },
  {
   "cell_type": "code",
   "execution_count": 39,
   "id": "0d423d6e-3043-437e-b477-a65df8d8e423",
   "metadata": {},
   "outputs": [
    {
     "name": "stdout",
     "output_type": "stream",
     "text": [
      "1 python best\n",
      "1^^py^^best\n",
      "1$$py$$best\n",
      "1 Keshav^"
     ]
    }
   ],
   "source": [
    "#Seperation \n",
    "#It is used to sperpeate words or any numbers \n",
    "\n",
    "#It is done by using the simple (commma  ,)\n",
    "\n",
    "print(1,'python','best')\n",
    "\n",
    "#it can also be seperated by using this seperation symbol \n",
    "print(1,'py','best',sep='^^')\n",
    "\n",
    "#we can also use other symbols like\n",
    "print(1,'py','best',sep='$$')\n",
    "\n",
    "# we can also end a statment by using end attribute \n",
    "print(1,'Keshav',end='^')"
   ]
  },
  {
   "cell_type": "markdown",
   "id": "910ddbe8-f9ad-4c60-b09a-3d34958af1f0",
   "metadata": {},
   "source": [
    "Input :\n",
    "     It is used to take input from the user \n",
    "     \n",
    "     It is done by using input() function \n",
    "     \n",
    "     First, it takes input from the user using the above functiom \n",
    "     \n",
    "     Let's see some demo now \n",
    "     \n",
    "     input() takes input in str format as it is the default format \n",
    "     \n",
    "     If we are expecting for a different type, then we must use convertors, that concept is called EXPLICIT TYPE CASTING"
   ]
  },
  {
   "cell_type": "code",
   "execution_count": 40,
   "id": "8ea426a3-8e3a-436b-903a-635e6afe3ede",
   "metadata": {},
   "outputs": [
    {
     "name": "stdin",
     "output_type": "stream",
     "text": [
      "Enter your age 20\n"
     ]
    }
   ],
   "source": [
    "a= input(\"Enter your age\")"
   ]
  },
  {
   "cell_type": "code",
   "execution_count": 41,
   "id": "2b7271a4-dcfb-4116-9582-98064d223191",
   "metadata": {},
   "outputs": [
    {
     "name": "stdin",
     "output_type": "stream",
     "text": [
      "please enter your name Keshav\n",
      "please enter your fav food Pizza\n"
     ]
    },
    {
     "name": "stdout",
     "output_type": "stream",
     "text": [
      "name is Keshav\n",
      "food is Pizza\n"
     ]
    }
   ],
   "source": [
    "name=input('please enter your name')\n",
    "food=input('please enter your fav food')\n",
    "print('name is',name)\n",
    "print('food is',food)"
   ]
  },
  {
   "cell_type": "code",
   "execution_count": 44,
   "id": "0bd15443-28a4-4671-80e5-3087b755df23",
   "metadata": {},
   "outputs": [
    {
     "name": "stdin",
     "output_type": "stream",
     "text": [
      "enter your age 20\n"
     ]
    },
    {
     "name": "stdout",
     "output_type": "stream",
     "text": [
      "Your age is 20\n"
     ]
    }
   ],
   "source": [
    "#EXPLICIT TYPE CASTING \n",
    "age=int(input(\"enter your age\"))\n",
    "print('Your age is',age)"
   ]
  },
  {
   "cell_type": "markdown",
   "id": "81246694-b4a9-48d4-918f-6e339ecb5c85",
   "metadata": {},
   "source": [
    "LOOPING STATEMENTS\n",
    "\n",
    "There are 3 types of conditions : \n",
    "\n",
    "(i) if \n",
    "\n",
    "(ii) else \n",
    "\n",
    "(iii) elif \n",
    "\n",
    "Now let us learn if and else using a practical program "
   ]
  },
  {
   "cell_type": "code",
   "execution_count": 45,
   "id": "7d7045c2-683a-4282-849c-d34eb91a80a1",
   "metadata": {},
   "outputs": [
    {
     "name": "stdin",
     "output_type": "stream",
     "text": [
      "enter your age 20\n"
     ]
    },
    {
     "name": "stdout",
     "output_type": "stream",
     "text": [
      "you are eligible for drivers license\n"
     ]
    }
   ],
   "source": [
    "age=int(input('enter your age'))\n",
    "if age>=18:\n",
    "    print('you are eligible for drivers license') \n",
    "else:\n",
    "    print('you are not eligible') "
   ]
  },
  {
   "cell_type": "code",
   "execution_count": 46,
   "id": "ff42b582-92aa-496d-8a9e-41c1f7af778c",
   "metadata": {},
   "outputs": [
    {
     "name": "stdin",
     "output_type": "stream",
     "text": [
      "enter number1 25\n",
      "enter number2 15\n"
     ]
    },
    {
     "name": "stdout",
     "output_type": "stream",
     "text": [
      "a is greater than b\n"
     ]
    }
   ],
   "source": [
    "#elif: if there are multiple conditions , then we can use elif conditions \n",
    "a=int(input('enter number1'))\n",
    "b=int(input('enter number2'))\n",
    "if a==b:\n",
    "    print('both are equal')\n",
    "elif a>b:\n",
    "    print('a is greater than b')\n",
    "else:\n",
    "    print('b is greater')"
   ]
  },
  {
   "cell_type": "code",
   "execution_count": 49,
   "id": "8fb37997-0254-4aee-89bd-bedc5c4ce1e4",
   "metadata": {},
   "outputs": [
    {
     "name": "stdout",
     "output_type": "stream",
     "text": [
      "i am p\n",
      "i am y\n",
      "i am t\n",
      "i am h\n",
      "i am o\n",
      "i am n\n"
     ]
    }
   ],
   "source": [
    "#for: it goes one by one. it is useful when we have to count a numbner range from start to stop or when we have to display the memebers of a collection \n",
    "for i in 'python':\n",
    "    print('i am',i)"
   ]
  },
  {
   "cell_type": "code",
   "execution_count": 52,
   "id": "907df181-5e25-4bc4-9e30-d040697b3ec1",
   "metadata": {},
   "outputs": [
    {
     "name": "stdout",
     "output_type": "stream",
     "text": [
      "2\n",
      "3\n",
      "4\n"
     ]
    }
   ],
   "source": [
    "#range: returns int from 1 point to another point \n",
    "for k in range(2,5):\n",
    "    print(k)"
   ]
  },
  {
   "cell_type": "code",
   "execution_count": 53,
   "id": "6b3ed38a-739a-4bce-82be-ddf859da9fad",
   "metadata": {},
   "outputs": [
    {
     "name": "stdout",
     "output_type": "stream",
     "text": [
      "2\n",
      "5\n",
      "8\n"
     ]
    }
   ],
   "source": [
    "for k in range(2,10,3):\n",
    "    print(k)"
   ]
  },
  {
   "cell_type": "code",
   "execution_count": 55,
   "id": "5c49ad3b-8df1-4b73-962e-35609e5b3ce1",
   "metadata": {},
   "outputs": [
    {
     "name": "stdout",
     "output_type": "stream",
     "text": [
      "5\n",
      "7\n",
      "9\n"
     ]
    }
   ],
   "source": [
    "#while loop: it repeats condition until a certain condition is satisfied\n",
    "i=5\n",
    "while i<10:\n",
    "    print(i)\n",
    "    i=i+2\n",
    "#now loop continues until the condition is satisified. it starts with 5 , goes to looping part and gets increased 2 every time loop gets printed . It runs until it gets number less than 10 \n",
    "#the while loop will end will only end if entered number is either the random number or 0 "
   ]
  },
  {
   "cell_type": "code",
   "execution_count": 60,
   "id": "29978ada-43b2-49bf-94d1-b8a25e57afd1",
   "metadata": {},
   "outputs": [
    {
     "name": "stdout",
     "output_type": "stream",
     "text": [
      "4\n",
      "end\n",
      "5\n",
      "end\n",
      "6\n",
      "end\n"
     ]
    }
   ],
   "source": [
    "#jump statements:\n",
    "#It is basically break and continue\n",
    "#it is a keyword which stops the execution of a loop and throws the flow out of the loop \n",
    "i=4\n",
    "while i!=7:\n",
    "    if i==7:\n",
    "        break\n",
    "    print(i)\n",
    "    i=i+1\n",
    "    print('end')"
   ]
  },
  {
   "cell_type": "code",
   "execution_count": 61,
   "id": "7a06d243-3e45-4171-ad54-bf4a93bf9e92",
   "metadata": {},
   "outputs": [
    {
     "name": "stdout",
     "output_type": "stream",
     "text": [
      "1\n",
      "2\n",
      "3\n",
      "4\n",
      "6\n",
      "7\n",
      "8\n",
      "9\n"
     ]
    }
   ],
   "source": [
    "i=0\n",
    "while i!=9:\n",
    "    i=i+1\n",
    "    if i==5:\n",
    "        continue\n",
    "    print(i)"
   ]
  },
  {
   "cell_type": "markdown",
   "id": "2151ba52-fc77-4ced-bb71-d4d40357d641",
   "metadata": {},
   "source": [
    "**SLICING CONCEPTS**"
   ]
  },
  {
   "cell_type": "markdown",
   "id": "046b1bcc-8d79-4853-95d1-b16705158942",
   "metadata": {},
   "source": [
    "Slicing: \n",
    "\n",
    "    Start: if we dont mention , then it becomes 0 \n",
    "    \n",
    "    Stop : if not mentioned, then it becomes length of the collection(len(collection))\n",
    "    \n",
    "    Stop : if we don't mention stop , then it becomes 0"
   ]
  },
  {
   "cell_type": "code",
   "execution_count": 63,
   "id": "9da947d3-6d0c-43d7-88ce-c889bc88b22d",
   "metadata": {},
   "outputs": [
    {
     "name": "stdout",
     "output_type": "stream",
     "text": [
      "s\n"
     ]
    }
   ],
   "source": [
    "#Strings: strings are immutable i.e cannot be removed or replaced \n",
    "    #Indexing:\n",
    "a='keshav'\n",
    "print(a[2])"
   ]
  },
  {
   "cell_type": "code",
   "execution_count": 64,
   "id": "6b8f89da-e140-4fcc-8bcd-c01e04f987a1",
   "metadata": {},
   "outputs": [
    {
     "name": "stdout",
     "output_type": "stream",
     "text": [
      "e\n"
     ]
    }
   ],
   "source": [
    "print(a[-5])"
   ]
  },
  {
   "cell_type": "code",
   "execution_count": 65,
   "id": "4fdd35f5-10a7-4913-a595-e82c2d47e531",
   "metadata": {},
   "outputs": [
    {
     "name": "stdout",
     "output_type": "stream",
     "text": [
      "hv\n"
     ]
    }
   ],
   "source": [
    "#slicing of strings \n",
    "#it starts with variable[start_index:stop_index]\n",
    "a='keshav'\n",
    "print(a[3]+a[5])"
   ]
  },
  {
   "cell_type": "code",
   "execution_count": 67,
   "id": "261f7939-787f-4086-8177-f2fd0084dd53",
   "metadata": {},
   "outputs": [
    {
     "name": "stdout",
     "output_type": "stream",
     "text": [
      "sv\n",
      "\n"
     ]
    }
   ],
   "source": [
    "#with steps:\n",
    "#variable[start_index:stop_index:steps]\n",
    "a='keshav'\n",
    "print(a[2:len(a):3])\n",
    "\n",
    "#now with negative index\n",
    "print(a[0:4:-2])"
   ]
  },
  {
   "cell_type": "code",
   "execution_count": 68,
   "id": "2a587e50-75bb-4fdc-8529-9d2acfbe8850",
   "metadata": {},
   "outputs": [
    {
     "name": "stdin",
     "output_type": "stream",
     "text": [
      "enter your name keshav\n"
     ]
    },
    {
     "name": "stdout",
     "output_type": "stream",
     "text": [
      "vhe\n"
     ]
    }
   ],
   "source": [
    "# we can also take input from the user and reverse it , like: \n",
    "a=input('enter your name')\n",
    "print(a[: : -2])"
   ]
  },
  {
   "cell_type": "code",
   "execution_count": 74,
   "id": "e2557ba8-99c0-4e07-b541-ff2aeb3b3984",
   "metadata": {},
   "outputs": [
    {
     "name": "stdin",
     "output_type": "stream",
     "text": [
      "enter the word tamil\n"
     ]
    },
    {
     "name": "stdout",
     "output_type": "stream",
     "text": [
      "not a palindrome\n"
     ]
    }
   ],
   "source": [
    "#let us take the example of the pallindrome program:\n",
    "a=input('enter the word')\n",
    "rev_word=a[: :-1]\n",
    "\n",
    "if a==rev_word:\n",
    "    print('it is palindrome')\n",
    "else:\n",
    "    print('not a palindrome')"
   ]
  },
  {
   "cell_type": "markdown",
   "id": "d820c43b-9592-4270-8a06-ccc5f4f2b2f0",
   "metadata": {},
   "source": [
    "**COLLECTIONS**"
   ]
  },
  {
   "cell_type": "markdown",
   "id": "b1747106-4236-44eb-aa72-d4857feaf336",
   "metadata": {},
   "source": [
    "Collections:\n",
    "\n",
    "There are 4 types of collections:\n",
    "\n",
    "1. List\n",
    "\n",
    "2. Tuple\n",
    "\n",
    "3. Set\n",
    "\n",
    "4. Dictionary"
   ]
  },
  {
   "cell_type": "code",
   "execution_count": 1,
   "id": "c2c10c99-7351-41a8-8786-f4d66db3349f",
   "metadata": {},
   "outputs": [
    {
     "name": "stdout",
     "output_type": "stream",
     "text": [
      "[2, 3, 5, 7, 9, 'keshav']\n",
      "5\n",
      "9\n",
      "[2, 3]\n"
     ]
    }
   ],
   "source": [
    "#1. List - \n",
    "    #It is created by square brackets\n",
    "    # it is mutable \n",
    "a=[2,3,5,7,9,'keshav']\n",
    "print(a)\n",
    "print(a[2])\n",
    "print(a[-2])\n",
    "print(a[0:2])"
   ]
  },
  {
   "cell_type": "code",
   "execution_count": 2,
   "id": "1d621769-65bd-4ec9-a504-d94f2f7c457a",
   "metadata": {},
   "outputs": [
    {
     "name": "stdout",
     "output_type": "stream",
     "text": [
      "(1, 3, 5, 'k')\n",
      "k\n",
      "3\n",
      "(1, 3, 5)\n"
     ]
    }
   ],
   "source": [
    "#2. Tuple:\n",
    "#Is created by round brackets ()\n",
    "#Is immutable\n",
    "k=(1,3,5,'k')\n",
    "print(k)\n",
    "print(k[3])\n",
    "print(k[-3])\n",
    "print(k[0:3])"
   ]
  },
  {
   "cell_type": "code",
   "execution_count": 3,
   "id": "a3d69573-6b0b-4400-bb3d-ffabe39b7efe",
   "metadata": {},
   "outputs": [
    {
     "name": "stdout",
     "output_type": "stream",
     "text": [
      "{'h', 'k', 'v', 'e', 's', 'a'}\n"
     ]
    }
   ],
   "source": [
    "#Set\n",
    "#by curly brackets\n",
    "#sets are mutable\n",
    "d=set('keshav')\n",
    "print(d)\n",
    "#as set is an unordered list , so slicing cant happen \n",
    "#even if we do slicing, we will get only type error"
   ]
  },
  {
   "cell_type": "markdown",
   "id": "3cedaf13-16e0-4bbd-8be0-f890abfa4ea6",
   "metadata": {},
   "source": [
    "If we want to convert mutable to immutable sets, then we can use frozenset() method\n",
    "\n",
    "we can use frozenset on: copy, difference,intersection,isdisjoint,issuperset,issubset etc"
   ]
  },
  {
   "cell_type": "code",
   "execution_count": 4,
   "id": "e55551b8-a663-4da1-aa26-9c92ba692797",
   "metadata": {},
   "outputs": [
    {
     "name": "stdout",
     "output_type": "stream",
     "text": [
      "(1, 2, 3)\n"
     ]
    }
   ],
   "source": [
    "a=(1,2,3)\n",
    "f=frozenset(a)\n",
    "print(a)"
   ]
  },
  {
   "cell_type": "code",
   "execution_count": 5,
   "id": "21c82b58-57c1-4741-9855-c34bef38ba12",
   "metadata": {},
   "outputs": [
    {
     "name": "stdout",
     "output_type": "stream",
     "text": [
      "8\n"
     ]
    }
   ],
   "source": [
    "#Dictionary\n",
    "#is a key:value pair collection\n",
    "#createdd by {} symbol\n",
    "#{'Key':'Pair'} are called items\n",
    "#key shou;d be an immutable value and a value can have any data type\n",
    "#it cannot have 2 items with same key i.e duplicate values are not allowed \n",
    "#dictionaries are unordered, mutable\n",
    "dict={'a':4,'b':8,'c':12}\n",
    "print(dict['b'])"
   ]
  },
  {
   "cell_type": "markdown",
   "id": "24a7ac00-138b-4115-9067-e1fdb6b74da0",
   "metadata": {},
   "source": [
    "**FUNCTIONS:**"
   ]
  },
  {
   "cell_type": "markdown",
   "id": "1253de61-caef-4f81-9a60-5dcd47ab8974",
   "metadata": {},
   "source": [
    "Functions :\n",
    "\n",
    "Used to divide codes into smaller parts which performs a particular function,is known an functional programming. \n",
    "\n",
    "Smaller parts are known as Functions\n",
    "\n",
    "Functions are created using def keyword\n",
    "\n",
    "show() is used to call a function\n",
    "\n",
    "return() used to end the execution of a functionand returns flow to the location where it was called with a value.\n",
    "\n",
    "If there is no return in the function, we get none"
   ]
  },
  {
   "cell_type": "code",
   "execution_count": 42,
   "id": "25fe8f4b-9823-4295-88fc-fa4770bb5331",
   "metadata": {},
   "outputs": [
    {
     "name": "stdout",
     "output_type": "stream",
     "text": [
      "Python\n"
     ]
    }
   ],
   "source": [
    "def show():\n",
    "    print('Python')\n",
    "show()"
   ]
  },
  {
   "cell_type": "code",
   "execution_count": 45,
   "id": "35791e48-6d72-496f-80b7-72d000426eda",
   "metadata": {},
   "outputs": [
    {
     "name": "stdout",
     "output_type": "stream",
     "text": [
      "value\n"
     ]
    }
   ],
   "source": [
    "def func():\n",
    "    return 'value'\n",
    "a=func()\n",
    "print(a)"
   ]
  },
  {
   "cell_type": "code",
   "execution_count": 46,
   "id": "85f8bd90-ff3d-42e4-9afe-5dd42b791d76",
   "metadata": {},
   "outputs": [
    {
     "name": "stdout",
     "output_type": "stream",
     "text": [
      "4\n",
      "100\n"
     ]
    }
   ],
   "source": [
    "#lAMBDA FUNCTION:\n",
    "#Anonymous or one line function is created with the help of the lambda keyword\n",
    "f=lambda x: x**2\n",
    "print(f(2))\n",
    "print(f(10))"
   ]
  },
  {
   "cell_type": "code",
   "execution_count": 47,
   "id": "a6269ed8-6f61-4eee-8947-795b11baca55",
   "metadata": {},
   "outputs": [
    {
     "name": "stdout",
     "output_type": "stream",
     "text": [
      "8\n",
      "315\n"
     ]
    }
   ],
   "source": [
    "f=lambda x,y: x*y\n",
    "print(f(2,4))\n",
    "print(f(35,9))"
   ]
  },
  {
   "cell_type": "code",
   "execution_count": 196,
   "id": "a435f3cb-be60-486c-a71a-0a55e4cf8775",
   "metadata": {},
   "outputs": [
    {
     "ename": "SyntaxError",
     "evalue": "Missing parentheses in call to 'print'. Did you mean print(...)? (449205740.py, line 4)",
     "output_type": "error",
     "traceback": [
      "\u001b[0;36m  Cell \u001b[0;32mIn [196], line 4\u001b[0;36m\u001b[0m\n\u001b[0;31m    print 'keshav'\u001b[0m\n\u001b[0m    ^\u001b[0m\n\u001b[0;31mSyntaxError\u001b[0m\u001b[0;31m:\u001b[0m Missing parentheses in call to 'print'. Did you mean print(...)?\n"
     ]
    }
   ],
   "source": [
    "#Error handling \n",
    "#Types of error:\n",
    "#1. Syntax error: Typing misktakes made by user \n",
    "print 'keshav'"
   ]
  },
  {
   "cell_type": "code",
   "execution_count": 197,
   "id": "d6170eb2-31b3-4f54-9422-bc3a45176046",
   "metadata": {},
   "outputs": [
    {
     "ename": "IndentationError",
     "evalue": "unexpected indent (991465341.py, line 2)",
     "output_type": "error",
     "traceback": [
      "\u001b[0;36m  Cell \u001b[0;32mIn [197], line 2\u001b[0;36m\u001b[0m\n\u001b[0;31m    print('keshav')\u001b[0m\n\u001b[0m    ^\u001b[0m\n\u001b[0;31mIndentationError\u001b[0m\u001b[0;31m:\u001b[0m unexpected indent\n"
     ]
    }
   ],
   "source": [
    "#2.indentation error:\n",
    "        print('keshav')\n",
    "    #the extra space is said to be the main problem of indentation error"
   ]
  },
  {
   "cell_type": "code",
   "execution_count": 198,
   "id": "9cdf3070-9629-4c1d-a62d-51e45695e038",
   "metadata": {},
   "outputs": [
    {
     "ename": "NameError",
     "evalue": "name 'mango' is not defined",
     "output_type": "error",
     "traceback": [
      "\u001b[0;31m---------------------------------------------------------------------------\u001b[0m",
      "\u001b[0;31mNameError\u001b[0m                                 Traceback (most recent call last)",
      "Cell \u001b[0;32mIn [198], line 2\u001b[0m\n\u001b[1;32m      1\u001b[0m \u001b[38;5;66;03m#3.Runtime error: \u001b[39;00m\n\u001b[0;32m----> 2\u001b[0m \u001b[38;5;28mprint\u001b[39m(\u001b[43mmango\u001b[49m)\n",
      "\u001b[0;31mNameError\u001b[0m: name 'mango' is not defined"
     ]
    }
   ],
   "source": [
    "#3.Runtime error: \n",
    "print(mango)"
   ]
  },
  {
   "cell_type": "markdown",
   "id": "d5fef9bf-1d57-44a9-b9bb-1bb93bb97d98",
   "metadata": {},
   "source": [
    "Like this there are different types of error like key error,indexerror,type error etc"
   ]
  },
  {
   "cell_type": "markdown",
   "id": "e601f0cc-43a8-41bc-8fcf-8a6650a1c64d",
   "metadata": {},
   "source": [
    "Types of handling error:\n",
    "\n",
    "    1. try\n",
    "    \n",
    "    2. except\n",
    "    \n",
    "    3. finally"
   ]
  },
  {
   "cell_type": "code",
   "execution_count": 199,
   "id": "0f466cec-0339-4df3-a84c-64bccb76f9a6",
   "metadata": {},
   "outputs": [
    {
     "name": "stdout",
     "output_type": "stream",
     "text": [
      "python\n"
     ]
    }
   ],
   "source": [
    "try:\n",
    "    print('python')\n",
    "except:\n",
    "    print('exception')"
   ]
  },
  {
   "cell_type": "markdown",
   "id": "8c505d70-a33a-4328-9f41-9c8f9785a8bf",
   "metadata": {},
   "source": [
    "File Handling\n",
    "\n",
    "There are different types of file handling systems \n",
    "\n",
    "'r' -> read data\n",
    "\n",
    "        file=open('data.csv','r')\n",
    "\n",
    "        print(f.read())\n",
    "\n",
    "'w' -> write data\n",
    "\n",
    "        file = open('data.csv','w')\n",
    "\n",
    "'a' -> add data\n",
    "\n",
    "        file= open('data.csv','a')\n",
    "\n",
    "\n",
    "'X' -> create new file\n",
    "\n",
    "        file=open('data.csv','X')\n",
    "\n",
    "\n",
    "'a+' -> read and write from file simultaneously\n",
    "\n",
    "        file=open('data.csv','a+')\n",
    "\n",
    "\n",
    "\n",
    "We can close the file using close()\n",
    "\n",
    "        file.close()"
   ]
  },
  {
   "cell_type": "markdown",
   "id": "00b8bb12-92c5-4495-8a95-73fac7ad4ad7",
   "metadata": {},
   "source": [
    "**Object oriented Programming (OOP's concept)**\n",
    "\n",
    "It is a process of implementing coding in terms of object. An object is a representation of a real life entity compromising state,behaviour \n",
    "\n",
    "\n",
    "and properties \n",
    "\n",
    "**Abstraction:**\n",
    "\n",
    "It is a process of hiding the unnecessary details and showing importance ones only is known as abstraction \n",
    "\n",
    "\n",
    "It is achieved using encapsulation\n",
    "\n",
    "**Encapsulation:**\n",
    "\n",
    "Wrapping up of data  into a single unit is known as encapsulation \n",
    "\n",
    "**Inheritence:**\n",
    "\n",
    "Process of getting the properties from the pre-built source to a new source is known as inheritence\n",
    "\n",
    "**Polymorphism:**\n",
    "\n",
    "It is a process of exisiting in multiple forms is known as polymorphism \n",
    "\n",
    "**Creating an object**\n",
    "\n",
    "(i)Class is an object factory\n",
    "\n",
    "\n",
    "(ii)Object is created by its class name \n",
    "\n",
    "\n",
    "(iii)class is a keyword that is used to create a class\n",
    "\n",
    "(iv) We give user input values through _init_()\n"
   ]
  },
  {
   "cell_type": "code",
   "execution_count": 4,
   "id": "18d87fb3-5e6a-43f3-addd-3a41e82a2385",
   "metadata": {},
   "outputs": [
    {
     "name": "stdout",
     "output_type": "stream",
     "text": [
      "5\n"
     ]
    }
   ],
   "source": [
    "class abc:\n",
    "    b=5\n",
    "obj1=abc()\n",
    "print(obj1.b)"
   ]
  },
  {
   "cell_type": "code",
   "execution_count": 24,
   "id": "6f48e798-40cf-4a59-ac4a-6fbc8d862bb4",
   "metadata": {},
   "outputs": [],
   "source": [
    "class employee:\n",
    "    \n",
    "    def _init_(self,ename,eage):\n",
    "        self.name = ename\n",
    "        self.age = eage\n",
    "    \n",
    "    def display(self):\n",
    "        print(self.name,self.age)"
   ]
  },
  {
   "cell_type": "code",
   "execution_count": 38,
   "id": "810cb001-bbb4-49dd-a5a3-61a6572c7d7c",
   "metadata": {},
   "outputs": [
    {
     "name": "stdin",
     "output_type": "stream",
     "text": [
      "enter the model of the bike: splendor\n",
      "enter the color of the bike: black\n",
      "enter the model of the bike: scooty\n",
      "enter the color of the bike: pink\n",
      "enter the model of the bike: bullet himalayas\n",
      "enter the color of the bike: blue\n"
     ]
    }
   ],
   "source": [
    "#let us now create a class of bike and store the objects value of 3 bikes in a list \n",
    "class bike:\n",
    "    \n",
    "    def _init_(self,cmod,col):\n",
    "        self.model = mod\n",
    "        self.color = col\n",
    "    \n",
    "    def bill(self):\n",
    "        print('model:',self.model)\n",
    "        print('color:',self.color)\n",
    "\n",
    "list_of_bikes = []\n",
    "\n",
    "for i in range(0,3):\n",
    "        m = input('enter the model of the bike:')\n",
    "        c = input('enter the color of the bike:')\n",
    "        obj = bike()\n",
    "        list_of_bikes.append(obj)"
   ]
  },
  {
   "cell_type": "markdown",
   "id": "98e0f7b4-5bde-454b-a831-bd2442a14305",
   "metadata": {},
   "source": [
    "                                             THE END\n",
    " \n",
    " \n",
    " **Note:**\n",
    " \n",
    " \n",
    " **(i)So I have now covered the concepts from  python basics to intermediate.**\n",
    " \n",
    " \n",
    " **(ii)You can use this material to revise your python concepts**\n",
    " \n",
    " \n",
    " **(iii)Will add more materials soon i.e coding part of python (from basics till GUI and some libraries of python like numpy,pandas \n",
    " and some visualization libraries)**\n",
    " "
   ]
  },
  {
   "cell_type": "code",
   "execution_count": null,
   "id": "353186cf-3fa8-4495-9297-de2de0c5460b",
   "metadata": {},
   "outputs": [],
   "source": []
  }
 ],
 "metadata": {
  "kernelspec": {
   "display_name": "Python 3 (ipykernel)",
   "language": "python",
   "name": "python3"
  },
  "language_info": {
   "codemirror_mode": {
    "name": "ipython",
    "version": 3
   },
   "file_extension": ".py",
   "mimetype": "text/x-python",
   "name": "python",
   "nbconvert_exporter": "python",
   "pygments_lexer": "ipython3",
   "version": "3.10.6"
  }
 },
 "nbformat": 4,
 "nbformat_minor": 5
}
